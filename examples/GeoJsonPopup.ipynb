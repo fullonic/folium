{
 "cells": [
  {
   "cell_type": "code",
   "execution_count": 1,
   "metadata": {},
   "outputs": [
    {
     "data": {
      "text/plain": [
       "RendererRegistry.enable('jupyterlab')"
      ]
     },
     "execution_count": 1,
     "metadata": {},
     "output_type": "execute_result"
    }
   ],
   "source": [
    "import folium, altair as alt, geopandas as gpd, fiona, pandas as pd, requests, json\n",
    "alt.renderers.enable('jupyterlab')"
   ]
  },
  {
   "cell_type": "code",
   "execution_count": 2,
   "metadata": {},
   "outputs": [
    {
     "name": "stdout",
     "output_type": "stream",
     "text": [
      "0.6.0+71.g5706269\n"
     ]
    }
   ],
   "source": [
    "print(folium.__version__)"
   ]
  },
  {
   "cell_type": "code",
   "execution_count": 3,
   "metadata": {},
   "outputs": [],
   "source": [
    "income = pd.read_csv(r\"https://raw.githubusercontent.com/pri-data/50-states/master/data/income-counties-states-national.csv\", dtype={\"fips\":str})\n",
    "income['income-2015']=pd.to_numeric(income['income-2015'], errors='coerce')"
   ]
  },
  {
   "cell_type": "code",
   "execution_count": 4,
   "metadata": {},
   "outputs": [
    {
     "data": {
      "text/html": [
       "<div>\n",
       "<style scoped>\n",
       "    .dataframe tbody tr th:only-of-type {\n",
       "        vertical-align: middle;\n",
       "    }\n",
       "\n",
       "    .dataframe tbody tr th {\n",
       "        vertical-align: top;\n",
       "    }\n",
       "\n",
       "    .dataframe thead th {\n",
       "        text-align: right;\n",
       "    }\n",
       "</style>\n",
       "<table border=\"1\" class=\"dataframe\">\n",
       "  <thead>\n",
       "    <tr style=\"text-align: right;\">\n",
       "      <th></th>\n",
       "      <th>fips</th>\n",
       "      <th>county</th>\n",
       "      <th>state</th>\n",
       "      <th>income-2015</th>\n",
       "      <th>income-1989a</th>\n",
       "      <th>income-1989b</th>\n",
       "      <th>change</th>\n",
       "    </tr>\n",
       "  </thead>\n",
       "  <tbody>\n",
       "    <tr>\n",
       "      <th>0</th>\n",
       "      <td>00000</td>\n",
       "      <td>US</td>\n",
       "      <td>US</td>\n",
       "      <td>55775.0</td>\n",
       "      <td>28906</td>\n",
       "      <td>53367.28102</td>\n",
       "      <td>4.316843</td>\n",
       "    </tr>\n",
       "    <tr>\n",
       "      <th>1</th>\n",
       "      <td>01000</td>\n",
       "      <td>Alabama</td>\n",
       "      <td>AL</td>\n",
       "      <td>44833.0</td>\n",
       "      <td>22202</td>\n",
       "      <td>40990.11877</td>\n",
       "      <td>8.571546</td>\n",
       "    </tr>\n",
       "    <tr>\n",
       "      <th>2</th>\n",
       "      <td>01001</td>\n",
       "      <td>Autauga County</td>\n",
       "      <td>AL</td>\n",
       "      <td>56580.0</td>\n",
       "      <td>26898</td>\n",
       "      <td>49660.04030</td>\n",
       "      <td>12.230399</td>\n",
       "    </tr>\n",
       "    <tr>\n",
       "      <th>3</th>\n",
       "      <td>01003</td>\n",
       "      <td>Baldwin County</td>\n",
       "      <td>AL</td>\n",
       "      <td>52387.0</td>\n",
       "      <td>24043</td>\n",
       "      <td>44389.03818</td>\n",
       "      <td>15.267074</td>\n",
       "    </tr>\n",
       "    <tr>\n",
       "      <th>4</th>\n",
       "      <td>01005</td>\n",
       "      <td>Barbour County</td>\n",
       "      <td>AL</td>\n",
       "      <td>31433.0</td>\n",
       "      <td>18673</td>\n",
       "      <td>34474.75398</td>\n",
       "      <td>-9.676945</td>\n",
       "    </tr>\n",
       "  </tbody>\n",
       "</table>\n",
       "</div>"
      ],
      "text/plain": [
       "    fips          county state  income-2015 income-1989a  income-1989b  \\\n",
       "0  00000              US    US      55775.0        28906   53367.28102   \n",
       "1  01000         Alabama    AL      44833.0        22202   40990.11877   \n",
       "2  01001  Autauga County    AL      56580.0        26898   49660.04030   \n",
       "3  01003  Baldwin County    AL      52387.0        24043   44389.03818   \n",
       "4  01005  Barbour County    AL      31433.0        18673   34474.75398   \n",
       "\n",
       "      change  \n",
       "0   4.316843  \n",
       "1   8.571546  \n",
       "2  12.230399  \n",
       "3  15.267074  \n",
       "4  -9.676945  "
      ]
     },
     "execution_count": 4,
     "metadata": {},
     "output_type": "execute_result"
    }
   ],
   "source": [
    "income.head()"
   ]
  },
  {
   "cell_type": "code",
   "execution_count": 5,
   "metadata": {},
   "outputs": [
    {
     "data": {
      "text/html": [
       "<div>\n",
       "<style scoped>\n",
       "    .dataframe tbody tr th:only-of-type {\n",
       "        vertical-align: middle;\n",
       "    }\n",
       "\n",
       "    .dataframe tbody tr th {\n",
       "        vertical-align: top;\n",
       "    }\n",
       "\n",
       "    .dataframe thead th {\n",
       "        text-align: right;\n",
       "    }\n",
       "</style>\n",
       "<table border=\"1\" class=\"dataframe\">\n",
       "  <thead>\n",
       "    <tr style=\"text-align: right;\">\n",
       "      <th></th>\n",
       "      <th>CENSUSAREA</th>\n",
       "      <th>GEO_ID</th>\n",
       "      <th>LSAD</th>\n",
       "      <th>NAME</th>\n",
       "      <th>STATE</th>\n",
       "      <th>geometry</th>\n",
       "    </tr>\n",
       "  </thead>\n",
       "  <tbody>\n",
       "    <tr>\n",
       "      <th>0</th>\n",
       "      <td>30842.923</td>\n",
       "      <td>0400000US23</td>\n",
       "      <td></td>\n",
       "      <td>Maine</td>\n",
       "      <td>23</td>\n",
       "      <td>(POLYGON ((-67.619761 44.519754, -67.61541 44....</td>\n",
       "    </tr>\n",
       "    <tr>\n",
       "      <th>1</th>\n",
       "      <td>7800.058</td>\n",
       "      <td>0400000US25</td>\n",
       "      <td></td>\n",
       "      <td>Massachusetts</td>\n",
       "      <td>25</td>\n",
       "      <td>(POLYGON ((-70.832044 41.606504, -70.823735 41...</td>\n",
       "    </tr>\n",
       "    <tr>\n",
       "      <th>2</th>\n",
       "      <td>56538.901</td>\n",
       "      <td>0400000US26</td>\n",
       "      <td></td>\n",
       "      <td>Michigan</td>\n",
       "      <td>26</td>\n",
       "      <td>(POLYGON ((-88.684434 48.115785, -88.675628 48...</td>\n",
       "    </tr>\n",
       "    <tr>\n",
       "      <th>3</th>\n",
       "      <td>145545.801</td>\n",
       "      <td>0400000US30</td>\n",
       "      <td></td>\n",
       "      <td>Montana</td>\n",
       "      <td>30</td>\n",
       "      <td>POLYGON ((-104.057698 44.997431, -104.250145 4...</td>\n",
       "    </tr>\n",
       "    <tr>\n",
       "      <th>4</th>\n",
       "      <td>109781.180</td>\n",
       "      <td>0400000US32</td>\n",
       "      <td></td>\n",
       "      <td>Nevada</td>\n",
       "      <td>32</td>\n",
       "      <td>POLYGON ((-114.0506 37.000396, -114.049995 36....</td>\n",
       "    </tr>\n",
       "  </tbody>\n",
       "</table>\n",
       "</div>"
      ],
      "text/plain": [
       "   CENSUSAREA       GEO_ID LSAD           NAME STATE  \\\n",
       "0   30842.923  0400000US23               Maine    23   \n",
       "1    7800.058  0400000US25       Massachusetts    25   \n",
       "2   56538.901  0400000US26            Michigan    26   \n",
       "3  145545.801  0400000US30             Montana    30   \n",
       "4  109781.180  0400000US32              Nevada    32   \n",
       "\n",
       "                                            geometry  \n",
       "0  (POLYGON ((-67.619761 44.519754, -67.61541 44....  \n",
       "1  (POLYGON ((-70.832044 41.606504, -70.823735 41...  \n",
       "2  (POLYGON ((-88.684434 48.115785, -88.675628 48...  \n",
       "3  POLYGON ((-104.057698 44.997431, -104.250145 4...  \n",
       "4  POLYGON ((-114.0506 37.000396, -114.049995 36....  "
      ]
     },
     "execution_count": 5,
     "metadata": {},
     "output_type": "execute_result"
    }
   ],
   "source": [
    "states = gpd.GeoDataFrame.from_features(requests.get(r\"https://raw.githubusercontent.com/jtbaker/data/master/geodata/usstates.geojson\").json(), crs=fiona.crs.from_epsg(4326))\n",
    "\n",
    "states.head()"
   ]
  },
  {
   "cell_type": "code",
   "execution_count": 6,
   "metadata": {},
   "outputs": [
    {
     "data": {
      "text/html": [
       "<div>\n",
       "<style scoped>\n",
       "    .dataframe tbody tr th:only-of-type {\n",
       "        vertical-align: middle;\n",
       "    }\n",
       "\n",
       "    .dataframe tbody tr th {\n",
       "        vertical-align: top;\n",
       "    }\n",
       "\n",
       "    .dataframe thead th {\n",
       "        text-align: right;\n",
       "    }\n",
       "</style>\n",
       "<table border=\"1\" class=\"dataframe\">\n",
       "  <thead>\n",
       "    <tr style=\"text-align: right;\">\n",
       "      <th></th>\n",
       "      <th>alpha-2</th>\n",
       "      <th>name</th>\n",
       "    </tr>\n",
       "  </thead>\n",
       "  <tbody>\n",
       "    <tr>\n",
       "      <th>0</th>\n",
       "      <td>AL</td>\n",
       "      <td>Alabama</td>\n",
       "    </tr>\n",
       "    <tr>\n",
       "      <th>1</th>\n",
       "      <td>AK</td>\n",
       "      <td>Alaska</td>\n",
       "    </tr>\n",
       "    <tr>\n",
       "      <th>2</th>\n",
       "      <td>AZ</td>\n",
       "      <td>Arizona</td>\n",
       "    </tr>\n",
       "  </tbody>\n",
       "</table>\n",
       "</div>"
      ],
      "text/plain": [
       "  alpha-2     name\n",
       "0      AL  Alabama\n",
       "1      AK   Alaska\n",
       "2      AZ  Arizona"
      ]
     },
     "execution_count": 6,
     "metadata": {},
     "output_type": "execute_result"
    }
   ],
   "source": [
    "abbrs = pd.read_json(json.dumps(requests.get('https://gist.githubusercontent.com/tvpmb/4734703/raw/b54d03154c339ed3047c66fefcece4727dfc931a/US%2520State%2520List').json()))\n",
    "\n",
    "abbrs.head(3)"
   ]
  },
  {
   "cell_type": "code",
   "execution_count": 7,
   "metadata": {},
   "outputs": [
    {
     "data": {
      "text/html": [
       "<div>\n",
       "<style scoped>\n",
       "    .dataframe tbody tr th:only-of-type {\n",
       "        vertical-align: middle;\n",
       "    }\n",
       "\n",
       "    .dataframe tbody tr th {\n",
       "        vertical-align: top;\n",
       "    }\n",
       "\n",
       "    .dataframe thead th {\n",
       "        text-align: right;\n",
       "    }\n",
       "</style>\n",
       "<table border=\"1\" class=\"dataframe\">\n",
       "  <thead>\n",
       "    <tr style=\"text-align: right;\">\n",
       "      <th></th>\n",
       "      <th>CENSUSAREA</th>\n",
       "      <th>GEO_ID</th>\n",
       "      <th>LSAD</th>\n",
       "      <th>NAME</th>\n",
       "      <th>STATE</th>\n",
       "      <th>geometry</th>\n",
       "      <th>alpha-2</th>\n",
       "      <th>name</th>\n",
       "    </tr>\n",
       "  </thead>\n",
       "  <tbody>\n",
       "    <tr>\n",
       "      <th>0</th>\n",
       "      <td>30842.923</td>\n",
       "      <td>0400000US23</td>\n",
       "      <td></td>\n",
       "      <td>Maine</td>\n",
       "      <td>23</td>\n",
       "      <td>(POLYGON ((-67.619761 44.519754, -67.582113000...</td>\n",
       "      <td>ME</td>\n",
       "      <td>Maine</td>\n",
       "    </tr>\n",
       "    <tr>\n",
       "      <th>1</th>\n",
       "      <td>7800.058</td>\n",
       "      <td>0400000US25</td>\n",
       "      <td></td>\n",
       "      <td>Massachusetts</td>\n",
       "      <td>25</td>\n",
       "      <td>(POLYGON ((-70.832044 41.606504, -70.823735 41...</td>\n",
       "      <td>MA</td>\n",
       "      <td>Massachusetts</td>\n",
       "    </tr>\n",
       "    <tr>\n",
       "      <th>2</th>\n",
       "      <td>56538.901</td>\n",
       "      <td>0400000US26</td>\n",
       "      <td></td>\n",
       "      <td>Michigan</td>\n",
       "      <td>26</td>\n",
       "      <td>(POLYGON ((-88.684434 48.115785, -88.418244 48...</td>\n",
       "      <td>MI</td>\n",
       "      <td>Michigan</td>\n",
       "    </tr>\n",
       "    <tr>\n",
       "      <th>3</th>\n",
       "      <td>145545.801</td>\n",
       "      <td>0400000US30</td>\n",
       "      <td></td>\n",
       "      <td>Montana</td>\n",
       "      <td>30</td>\n",
       "      <td>POLYGON ((-104.057698 44.997431, -111.055199 4...</td>\n",
       "      <td>MT</td>\n",
       "      <td>Montana</td>\n",
       "    </tr>\n",
       "    <tr>\n",
       "      <th>4</th>\n",
       "      <td>109781.180</td>\n",
       "      <td>0400000US32</td>\n",
       "      <td></td>\n",
       "      <td>Nevada</td>\n",
       "      <td>32</td>\n",
       "      <td>POLYGON ((-114.0506 37.000396, -114.046838 36....</td>\n",
       "      <td>NV</td>\n",
       "      <td>Nevada</td>\n",
       "    </tr>\n",
       "  </tbody>\n",
       "</table>\n",
       "</div>"
      ],
      "text/plain": [
       "   CENSUSAREA       GEO_ID LSAD           NAME STATE  \\\n",
       "0   30842.923  0400000US23               Maine    23   \n",
       "1    7800.058  0400000US25       Massachusetts    25   \n",
       "2   56538.901  0400000US26            Michigan    26   \n",
       "3  145545.801  0400000US30             Montana    30   \n",
       "4  109781.180  0400000US32              Nevada    32   \n",
       "\n",
       "                                            geometry alpha-2           name  \n",
       "0  (POLYGON ((-67.619761 44.519754, -67.582113000...      ME          Maine  \n",
       "1  (POLYGON ((-70.832044 41.606504, -70.823735 41...      MA  Massachusetts  \n",
       "2  (POLYGON ((-88.684434 48.115785, -88.418244 48...      MI       Michigan  \n",
       "3  POLYGON ((-104.057698 44.997431, -111.055199 4...      MT        Montana  \n",
       "4  POLYGON ((-114.0506 37.000396, -114.046838 36....      NV         Nevada  "
      ]
     },
     "execution_count": 7,
     "metadata": {},
     "output_type": "execute_result"
    }
   ],
   "source": [
    "statesmerge = states.merge(abbrs,how='left', left_on='NAME', right_on='name')\n",
    "statesmerge['geometry']=statesmerge.geometry.simplify(.05)\n",
    "\n",
    "statesmerge.head()"
   ]
  },
  {
   "cell_type": "code",
   "execution_count": 10,
   "metadata": {},
   "outputs": [
    {
     "data": {
      "image/png": "[encoded data removed]",
      "text/plain": [
       "<VegaLite 2 object>\n",
       "\n",
       "If you see this message, it means the renderer has not been properly enabled\n",
       "for the frontend that you are using. For more information, see\n",
       "https://altair-viz.github.io/user_guide/troubleshooting.html\n"
      ]
     },
     "execution_count": 10,
     "metadata": {},
     "output_type": "execute_result"
    }
   ],
   "source": [
    "basechart = alt.Chart(income, title='State Income by County').mark_bar().encode(\n",
    "    x=alt.X('county:N', title='County Name', sort=alt.EncodingSortField(op='sum', field='change', order='descending')), \n",
    "    y=alt.Y('change:Q', title='Change (%)'), \n",
    "    color=alt.Color('change:Q', scale=alt.Scale(domain=[-20,0,20], range=['red', 'grey', 'green']), legend=alt.Legend(orient=alt.LegendOrient('top-right'))),\n",
    "    tooltip=[alt.Tooltip('county:N',title='County'),\n",
    "             alt.Tooltip('state:N', title='State'), \n",
    "             alt.Tooltip('change:Q', format=\".2f\", title='Change'), \n",
    "             alt.Tooltip('income-2015:Q', format=\"$,.2f\", title='Income - 2015')]\n",
    ").properties(width=500)\n",
    "\n",
    "basechart"
   ]
  },
  {
   "cell_type": "code",
   "execution_count": null,
   "metadata": {},
   "outputs": [],
   "source": [
    "m = folium.Map(location=[35.3,-97.6], zoom_start=4)\n",
    "\n",
    "g = folium.GeoJson(statesmerge, style_function=lambda x: {'fillColor':\"transparent\", \"color\":'black'}, \n",
    "                   tooltip=folium.features.GeoJsonTooltip(fields=[\"NAME\"])).add_to(m)\n",
    "\n",
    "pop = folium.features.GeoJsonPopup(fields=[\"NAME\"],\n",
    "                                   labels=False,\n",
    "                                   vegalite=folium.VegaLite(basechart), \n",
    "                                   map_key='alpha-2',\n",
    "                                   data_key='state',\n",
    "                                   max_width=800,\n",
    "                                   style='font-size: 20pt; margin: auto;',\n",
    "                                   class_name='foliumPopup'\n",
    "                                  )\n",
    "g.add_child(pop)\n",
    "\n",
    "m\n",
    "\n"
   ]
  }
 ],
 "metadata": {
  "kernelspec": {
   "display_name": "Python 3",
   "language": "python",
   "name": "python3"
  },
  "language_info": {
   "codemirror_mode": {
    "name": "ipython",
    "version": 3
   },
   "file_extension": ".py",
   "mimetype": "text/x-python",
   "name": "python",
   "nbconvert_exporter": "python",
   "pygments_lexer": "ipython3",
   "version": "3.6.6"
  }
 },
 "nbformat": 4,
 "nbformat_minor": 2
}
