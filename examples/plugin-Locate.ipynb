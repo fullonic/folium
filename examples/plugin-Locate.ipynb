{
  "cells": [{
    "cell_type": "markdown",
    "metadata": {},
    "source": ["Import folium"]
  }, {
    "cell_type": "code",
    "execution_count": null,
    "metadata": {},
    "outputs": [],
    "source": ["import folium\n", "from folium.plugins import Locate"]
  }, {
    "cell_type": "markdown",
    "metadata": {},
    "source": ["Create map"]
  }, {
    "cell_type": "code",
    "execution_count": null,
    "metadata": {},
    "outputs": [],
    "source": ["map = folium.Map()"]
  }, {
    "cell_type": "markdown",
    "metadata": {},
    "source": ["Add locate to map"]
  }, {
    "cell_type": "code",
    "execution_count": null,
    "metadata": {},
    "outputs": [],
    "source": ["Locate(icon=folium.Icon(color='red')).add_to(map)"]
  }, {
    "cell_type": "markdown",
    "metadata": {},
    "source": ["Visualize map"]
  }, {
    "cell_type": "code",
    "execution_count": null,
    "metadata": {},
    "outputs": [],
    "source": ["map"]
  }],
  "metadata": {
    "kernelspec": {
      "display_name": "Python 3",
      "language": "python",
      "name": "python3"
    },
    "language_info": {
      "codemirror_mode": {
        "name": "ipython",
        "version": 3
      },
      "file_extension": ".py",
      "mimetype": "text/x-python",
      "name": "python",
      "nbconvert_exporter": "python",
      "pygments_lexer": "ipython3",
      "version": "3.6.4"
    }
  },
  "nbformat": 4,
  "nbformat_minor": 2
}